{
 "cells": [
  {
   "cell_type": "code",
   "execution_count": 2,
   "metadata": {},
   "outputs": [
    {
     "name": "stdout",
     "output_type": "stream",
     "text": [
      "[]\n",
      "['C']\n",
      "['B']\n",
      "['B', 'C']\n",
      "['A']\n",
      "['A', 'C']\n",
      "['A', 'B']\n",
      "['A', 'B', 'C']\n"
     ]
    }
   ],
   "source": [
    "arr = ['A', 'B', 'C']\n",
    "check = [0, 0, 0]\n",
    "\n",
    "def powerset(idx):\n",
    "    if idx == 3:\n",
    "        result = []\n",
    "        for j in range(3):\n",
    "            if check[j] == 1:\n",
    "                result.append(arr[j])\n",
    "        print(result)\n",
    "        return\n",
    "    \n",
    "    check[idx] = 0\n",
    "    powerset(idx+1)\n",
    "\n",
    "    check[idx] = 1\n",
    "    powerset(idx+1)\n",
    "\n",
    "powerset(0)"
   ]
  },
  {
   "cell_type": "code",
   "execution_count": null,
   "metadata": {},
   "outputs": [],
   "source": []
  }
 ],
 "metadata": {
  "kernelspec": {
   "display_name": "base",
   "language": "python",
   "name": "python3"
  },
  "language_info": {
   "codemirror_mode": {
    "name": "ipython",
    "version": 3
   },
   "file_extension": ".py",
   "mimetype": "text/x-python",
   "name": "python",
   "nbconvert_exporter": "python",
   "pygments_lexer": "ipython3",
   "version": "3.10.9"
  }
 },
 "nbformat": 4,
 "nbformat_minor": 2
}
