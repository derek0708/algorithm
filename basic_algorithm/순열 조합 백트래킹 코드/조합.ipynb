{
 "cells": [
  {
   "cell_type": "markdown",
   "metadata": {},
   "source": [
    "# 조합\n",
    "\n",
    "    - 5C3"
   ]
  },
  {
   "cell_type": "code",
   "execution_count": 1,
   "metadata": {},
   "outputs": [
    {
     "name": "stdout",
     "output_type": "stream",
     "text": [
      "['A', 'B', 'C']\n",
      "['A', 'B', 'D']\n",
      "['A', 'B', 'E']\n",
      "['A', 'C', 'D']\n",
      "['A', 'C', 'E']\n",
      "['A', 'D', 'E']\n",
      "['B', 'C', 'D']\n",
      "['B', 'C', 'E']\n",
      "['B', 'D', 'E']\n",
      "['C', 'D', 'E']\n"
     ]
    }
   ],
   "source": [
    "arr = ['A', 'B', 'C', 'D', 'E']\n",
    "sel = [0, 0, 0]\n",
    "\n",
    "def combination(idx, sidx):\n",
    "    if sidx == 3:\n",
    "        print(sel)\n",
    "        return\n",
    "    if idx == 5:\n",
    "        return\n",
    "    \n",
    "    sel[sidx] = arr[idx]\n",
    "    combination(idx+1, sidx+1)\n",
    "    combination(idx+1, sidx)\n",
    "\n",
    "combination(0, 0)"
   ]
  },
  {
   "cell_type": "code",
   "execution_count": null,
   "metadata": {},
   "outputs": [],
   "source": []
  }
 ],
 "metadata": {
  "kernelspec": {
   "display_name": "saffy",
   "language": "python",
   "name": "python3"
  },
  "language_info": {
   "codemirror_mode": {
    "name": "ipython",
    "version": 3
   },
   "file_extension": ".py",
   "mimetype": "text/x-python",
   "name": "python",
   "nbconvert_exporter": "python",
   "pygments_lexer": "ipython3",
   "version": "3.9.16"
  }
 },
 "nbformat": 4,
 "nbformat_minor": 2
}
