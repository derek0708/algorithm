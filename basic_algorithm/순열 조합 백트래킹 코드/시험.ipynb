{
 "cells": [
  {
   "cell_type": "code",
   "execution_count": 2,
   "metadata": {},
   "outputs": [
    {
     "name": "stdout",
     "output_type": "stream",
     "text": [
      "[]\n",
      "['c']\n",
      "['b']\n",
      "['b', 'c']\n",
      "['a']\n",
      "['a', 'c']\n",
      "['a', 'b']\n",
      "['a', 'b', 'c']\n"
     ]
    }
   ],
   "source": [
    "# 부분집합 재귀\n",
    "arr = ['a', 'b', 'c']\n",
    "check = [0,0,0]\n",
    "\n",
    "def powerset(idx):\n",
    "    if idx == 3:\n",
    "        result = []\n",
    "        for j in range(3):\n",
    "            if check[j] == 1:\n",
    "                result.append(arr[j])\n",
    "        print(result)\n",
    "        return\n",
    "    check[idx] = 0\n",
    "    powerset(idx+1)\n",
    "    check[idx] = 1\n",
    "    powerset(idx+1)\n",
    "\n",
    "powerset(0)"
   ]
  },
  {
   "cell_type": "code",
   "execution_count": 3,
   "metadata": {},
   "outputs": [
    {
     "name": "stdout",
     "output_type": "stream",
     "text": [
      "['a', 'b', 'c']\n",
      "['a', 'c', 'b']\n",
      "['b', 'a', 'c']\n",
      "['b', 'c', 'a']\n",
      "['c', 'a', 'b']\n",
      "['c', 'b', 'a']\n"
     ]
    }
   ],
   "source": [
    "#순열 인형뽑기\n",
    "arr = ['a', 'b','c']\n",
    "sel = [0,0,0]\n",
    "check = [0,0,0]\n",
    "\n",
    "def perm(depth):\n",
    "    if depth == 3:\n",
    "        print(sel)\n",
    "        return\n",
    "    for i in range(3):\n",
    "        if not check[i]:\n",
    "            check[i] = 1\n",
    "            sel[depth] = arr[i]\n",
    "            perm(depth+1)\n",
    "            check[i] = 0\n",
    "\n",
    "perm(0)"
   ]
  },
  {
   "cell_type": "code",
   "execution_count": 4,
   "metadata": {},
   "outputs": [
    {
     "name": "stdout",
     "output_type": "stream",
     "text": [
      "['a', 'a', 'a']\n",
      "['a', 'a', 'b']\n",
      "['a', 'a', 'c']\n",
      "['a', 'b', 'a']\n",
      "['a', 'b', 'b']\n",
      "['a', 'b', 'c']\n",
      "['a', 'c', 'a']\n",
      "['a', 'c', 'b']\n",
      "['a', 'c', 'c']\n",
      "['b', 'a', 'a']\n",
      "['b', 'a', 'b']\n",
      "['b', 'a', 'c']\n",
      "['b', 'b', 'a']\n",
      "['b', 'b', 'b']\n",
      "['b', 'b', 'c']\n",
      "['b', 'c', 'a']\n",
      "['b', 'c', 'b']\n",
      "['b', 'c', 'c']\n",
      "['c', 'a', 'a']\n",
      "['c', 'a', 'b']\n",
      "['c', 'a', 'c']\n",
      "['c', 'b', 'a']\n",
      "['c', 'b', 'b']\n",
      "['c', 'b', 'c']\n",
      "['c', 'c', 'a']\n",
      "['c', 'c', 'b']\n",
      "['c', 'c', 'c']\n"
     ]
    }
   ],
   "source": [
    "# 중복 순열\n",
    "arr = ['a', 'b', 'c']\n",
    "sel = [0,0,0]\n",
    "\n",
    "def perm_rep(depth):\n",
    "    if depth == 3:\n",
    "        print([*sel])\n",
    "        return\n",
    "    for i in range(3):\n",
    "        sel[depth] = arr[i]\n",
    "        perm_rep(depth + 1)\n",
    "perm_rep(0)"
   ]
  },
  {
   "cell_type": "code",
   "execution_count": 5,
   "metadata": {},
   "outputs": [
    {
     "name": "stdout",
     "output_type": "stream",
     "text": [
      "['a', 'b', 'c']\n",
      "['a', 'b', 'd']\n",
      "['a', 'b', 'e']\n",
      "['a', 'c', 'd']\n",
      "['a', 'c', 'e']\n",
      "['a', 'd', 'e']\n",
      "['b', 'c', 'd']\n",
      "['b', 'c', 'e']\n",
      "['b', 'd', 'e']\n",
      "['c', 'd', 'e']\n"
     ]
    }
   ],
   "source": [
    "#조합\n",
    "arr = ['a', 'b', 'c', 'd', 'e']\n",
    "sel = [0,0,0]\n",
    "\n",
    "def combination(idx, sidx):\n",
    "    if sidx == 3:\n",
    "        print(sel)\n",
    "        return\n",
    "    if idx == 5:\n",
    "        return\n",
    "    \n",
    "    sel[sidx] = arr[idx]\n",
    "    combination(idx+1, sidx+1) \n",
    "    combination(idx+1, sidx) \n",
    "\n",
    "combination(0,0)"
   ]
  },
  {
   "cell_type": "code",
   "execution_count": 6,
   "metadata": {},
   "outputs": [
    {
     "name": "stdout",
     "output_type": "stream",
     "text": [
      "['a', 'a', 'a']\n",
      "['a', 'a', 'b']\n",
      "['a', 'a', 'c']\n",
      "['a', 'a', 'd']\n",
      "['a', 'a', 'e']\n",
      "['a', 'b', 'b']\n",
      "['a', 'b', 'c']\n",
      "['a', 'b', 'd']\n",
      "['a', 'b', 'e']\n",
      "['a', 'c', 'c']\n",
      "['a', 'c', 'd']\n",
      "['a', 'c', 'e']\n",
      "['a', 'd', 'd']\n",
      "['a', 'd', 'e']\n",
      "['a', 'e', 'e']\n",
      "['b', 'b', 'b']\n",
      "['b', 'b', 'c']\n",
      "['b', 'b', 'd']\n",
      "['b', 'b', 'e']\n",
      "['b', 'c', 'c']\n",
      "['b', 'c', 'd']\n",
      "['b', 'c', 'e']\n",
      "['b', 'd', 'd']\n",
      "['b', 'd', 'e']\n",
      "['b', 'e', 'e']\n",
      "['c', 'c', 'c']\n",
      "['c', 'c', 'd']\n",
      "['c', 'c', 'e']\n",
      "['c', 'd', 'd']\n",
      "['c', 'd', 'e']\n",
      "['c', 'e', 'e']\n",
      "['d', 'd', 'd']\n",
      "['d', 'd', 'e']\n",
      "['d', 'e', 'e']\n",
      "['e', 'e', 'e']\n"
     ]
    }
   ],
   "source": [
    "#중복 조합\n",
    "arr = ['a', 'b', 'c', 'd', 'e']\n",
    "sel = [0,0,0]\n",
    "\n",
    "def combi_rep(idx, sidx):\n",
    "    if sidx == 3:\n",
    "        print(sel)\n",
    "        return\n",
    "    if idx == 5:\n",
    "        return\n",
    "    sel[sidx] = arr[idx]\n",
    "    combi_rep(idx, sidx+1)\n",
    "    combi_rep(idx+1, sidx)\n",
    "\n",
    "combi_rep(0,0)"
   ]
  }
 ],
 "metadata": {
  "kernelspec": {
   "display_name": "tcms",
   "language": "python",
   "name": "python3"
  },
  "language_info": {
   "codemirror_mode": {
    "name": "ipython",
    "version": 3
   },
   "file_extension": ".py",
   "mimetype": "text/x-python",
   "name": "python",
   "nbconvert_exporter": "python",
   "pygments_lexer": "ipython3",
   "version": "3.9.16"
  }
 },
 "nbformat": 4,
 "nbformat_minor": 2
}
