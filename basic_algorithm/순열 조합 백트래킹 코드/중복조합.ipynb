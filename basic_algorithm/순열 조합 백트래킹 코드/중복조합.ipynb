{
 "cells": [
  {
   "cell_type": "code",
   "execution_count": 1,
   "metadata": {},
   "outputs": [
    {
     "name": "stdout",
     "output_type": "stream",
     "text": [
      "['A', 'A', 'A']\n",
      "['A', 'A', 'B']\n",
      "['A', 'A', 'C']\n",
      "['A', 'A', 'D']\n",
      "['A', 'A', 'E']\n",
      "['A', 'B', 'B']\n",
      "['A', 'B', 'C']\n",
      "['A', 'B', 'D']\n",
      "['A', 'B', 'E']\n",
      "['A', 'C', 'C']\n",
      "['A', 'C', 'D']\n",
      "['A', 'C', 'E']\n",
      "['A', 'D', 'D']\n",
      "['A', 'D', 'E']\n",
      "['A', 'E', 'E']\n",
      "['B', 'B', 'B']\n",
      "['B', 'B', 'C']\n",
      "['B', 'B', 'D']\n",
      "['B', 'B', 'E']\n",
      "['B', 'C', 'C']\n",
      "['B', 'C', 'D']\n",
      "['B', 'C', 'E']\n",
      "['B', 'D', 'D']\n",
      "['B', 'D', 'E']\n",
      "['B', 'E', 'E']\n",
      "['C', 'C', 'C']\n",
      "['C', 'C', 'D']\n",
      "['C', 'C', 'E']\n",
      "['C', 'D', 'D']\n",
      "['C', 'D', 'E']\n",
      "['C', 'E', 'E']\n",
      "['D', 'D', 'D']\n",
      "['D', 'D', 'E']\n",
      "['D', 'E', 'E']\n",
      "['E', 'E', 'E']\n"
     ]
    }
   ],
   "source": [
    "arr = ['A', 'B', 'C', 'D', 'E']\n",
    "sel = [0, 0, 0]\n",
    "\n",
    "def combi_rep(idx, sidx):\n",
    "    if sidx == 3:\n",
    "        print(sel)\n",
    "        return\n",
    "    if idx == 5:\n",
    "        return\n",
    "    sel[sidx] = arr[idx]\n",
    "    combi_rep(idx, sidx+1)\n",
    "    combi_rep(idx+1, sidx)\n",
    "\n",
    "combi_rep(0, 0)\n"
   ]
  }
 ],
 "metadata": {
  "kernelspec": {
   "display_name": "tcms",
   "language": "python",
   "name": "python3"
  },
  "language_info": {
   "codemirror_mode": {
    "name": "ipython",
    "version": 3
   },
   "file_extension": ".py",
   "mimetype": "text/x-python",
   "name": "python",
   "nbconvert_exporter": "python",
   "pygments_lexer": "ipython3",
   "version": "3.9.16"
  }
 },
 "nbformat": 4,
 "nbformat_minor": 2
}
